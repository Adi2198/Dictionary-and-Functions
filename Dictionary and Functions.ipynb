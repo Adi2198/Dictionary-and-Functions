{
 "cells": [
  {
   "cell_type": "markdown",
   "id": "081e688d",
   "metadata": {},
   "source": [
    "## A Python Program(with class concepts) to find the area of the triangle using the below  formula. \n",
    "### area = (s*(s-a)*(s-b)*(s-c)) ** 0.5 \n",
    "### Function to take the length of the sides of triangle from user should be defined in the parent  class and function to calculate the area should be defined in subclass. \n"
   ]
  },
  {
   "cell_type": "code",
   "execution_count": 1,
   "id": "77dcce61",
   "metadata": {},
   "outputs": [],
   "source": [
    "\n",
    "class Parameter:\n",
    "    \n",
    "    def takeinput(self):\n",
    "        self.x,self.y,self.z=input(\"Enter the length of Sides of Triangle:\").split(\" \")\n",
    "        self.a = int(self.x)\n",
    "        self.b = int(self.y)\n",
    "        self.c = int(self.z)\n",
    "        print(\"A: {}\\nB: {}\\nC: {}\".format(self.a,self.b,self.c))\n",
    "                \n",
    "class Area(Parameter):\n",
    "    def __init__(self):\n",
    "        Parameter.__init__(self)\n",
    "    def calculateArea(self):\n",
    "        self.s= (self.a+self.b+self.c)/2\n",
    "        self.area = (self.s*(self.s-self.a)*(self.s-self.b)*(self.s-self.c)) ** 0.5\n",
    "        return round(self.area,2)"
   ]
  },
  {
   "cell_type": "code",
   "execution_count": 2,
   "id": "df044c33",
   "metadata": {},
   "outputs": [
    {
     "name": "stdout",
     "output_type": "stream",
     "text": [
      "Enter the length of Sides of Triangle:4 2 5\n",
      "A: 4\n",
      "B: 2\n",
      "C: 5\n"
     ]
    },
    {
     "data": {
      "text/plain": [
       "3.8"
      ]
     },
     "execution_count": 2,
     "metadata": {},
     "output_type": "execute_result"
    }
   ],
   "source": [
    "myObj = Area()\n",
    "myObj.takeinput()\n",
    "myObj.calculateArea()"
   ]
  },
  {
   "cell_type": "markdown",
   "id": "49f06ecb",
   "metadata": {},
   "source": [
    "## A function filter_long_words() that takes a list of words and an integer n and returns  the list of words that are longer than n. \n"
   ]
  },
  {
   "cell_type": "code",
   "execution_count": 3,
   "id": "7bbbde7c",
   "metadata": {},
   "outputs": [],
   "source": [
    "def filter_long_words(iterable,n):\n",
    "    List =[]\n",
    "    for word in iterable:\n",
    "        if len(word)>n:\n",
    "            List.append(word)\n",
    "    return List"
   ]
  },
  {
   "cell_type": "code",
   "execution_count": 4,
   "id": "4f32e390",
   "metadata": {},
   "outputs": [
    {
     "data": {
      "text/plain": [
       "['Aditya', 'Index', 'Scale']"
      ]
     },
     "execution_count": 4,
     "metadata": {},
     "output_type": "execute_result"
    }
   ],
   "source": [
    "filter_long_words([\"Aditya\",\"Index\",\"Scale\",\"Sa\"],3)\n"
   ]
  },
  {
   "cell_type": "markdown",
   "id": "a06690e8",
   "metadata": {},
   "source": [
    "## Write a Python program using function concept that maps list of words into a list of integers  representing the lengths of the corresponding words. \n",
    "Hint: If a list [ ab,cde,erty] is passed on to the python function output should come as [2,3,4] Here 2,3 and 4 are the lengths of the words in the list. \n"
   ]
  },
  {
   "cell_type": "code",
   "execution_count": 5,
   "id": "1d4eae42",
   "metadata": {},
   "outputs": [
    {
     "name": "stdout",
     "output_type": "stream",
     "text": [
      "[2, 3, 4]\n"
     ]
    }
   ],
   "source": [
    "print(list(map(lambda word : len(word),[ \"ab\",\"cde\",\"erty\"])))"
   ]
  },
  {
   "cell_type": "markdown",
   "id": "2fb1ee16",
   "metadata": {},
   "source": [
    "## Write a Python function which takes a character (i.e. a string of length 1) and returns True if  it is a vowel, False otherwise. "
   ]
  },
  {
   "cell_type": "code",
   "execution_count": 6,
   "id": "d8ffcb28",
   "metadata": {},
   "outputs": [],
   "source": [
    "def vowel(s):\n",
    "    return True if s.lower() in \"aeiou\" else False"
   ]
  },
  {
   "cell_type": "code",
   "execution_count": 7,
   "id": "d9c16219",
   "metadata": {},
   "outputs": [
    {
     "name": "stdout",
     "output_type": "stream",
     "text": [
      "A :  True\n",
      "B :  False\n",
      "C :  False\n",
      "D :  False\n",
      "E :  True\n",
      "F :  False\n",
      "G :  False\n",
      "H :  False\n",
      "I :  True\n",
      "J :  False\n",
      "K :  False\n",
      "L :  False\n",
      "M :  False\n",
      "N :  False\n",
      "O :  True\n",
      "P :  False\n",
      "Q :  False\n",
      "R :  False\n",
      "S :  False\n",
      "T :  False\n",
      "U :  True\n",
      "V :  False\n",
      "W :  False\n",
      "X :  False\n",
      "Y :  False\n",
      "Z :  False\n"
     ]
    }
   ],
   "source": [
    "for a in range(65,91):\n",
    "    print(str(chr(a)),\": \",vowel(str(chr(a))))  "
   ]
  },
  {
   "cell_type": "code",
   "execution_count": null,
   "id": "6a1b57b6",
   "metadata": {},
   "outputs": [],
   "source": []
  }
 ],
 "metadata": {
  "kernelspec": {
   "display_name": "Python 3",
   "language": "python",
   "name": "python3"
  },
  "language_info": {
   "codemirror_mode": {
    "name": "ipython",
    "version": 3
   },
   "file_extension": ".py",
   "mimetype": "text/x-python",
   "name": "python",
   "nbconvert_exporter": "python",
   "pygments_lexer": "ipython3",
   "version": "3.8.8"
  }
 },
 "nbformat": 4,
 "nbformat_minor": 5
}
